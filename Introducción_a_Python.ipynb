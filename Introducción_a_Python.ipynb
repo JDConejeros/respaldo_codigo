{
  "nbformat": 4,
  "nbformat_minor": 0,
  "metadata": {
    "colab": {
      "name": "Introducción a Python.ipynb",
      "version": "0.3.2",
      "provenance": [],
      "collapsed_sections": [],
      "include_colab_link": true
    },
    "kernelspec": {
      "name": "python3",
      "display_name": "Python 3"
    }
  },
  "cells": [
    {
      "cell_type": "markdown",
      "metadata": {
        "id": "view-in-github",
        "colab_type": "text"
      },
      "source": [
        "<a href=\"https://colab.research.google.com/github/JDConejeros/respaldo_codigo/blob/master/Introducci%C3%B3n_a_Python.ipynb\" target=\"_parent\"><img src=\"https://colab.research.google.com/assets/colab-badge.svg\" alt=\"Open In Colab\"/></a>"
      ]
    },
    {
      "metadata": {
        "id": "o2saO4Fj42NJ",
        "colab_type": "text"
      },
      "cell_type": "markdown",
      "source": [
        "# Python\n",
        "\n",
        "Es un lenguaje de programación ampliamente utilizado. Para poder hacer Web Scraping necesitamos conocer algunos contenidos sobre programación:\n",
        "\n",
        "\n",
        "* Variables\n",
        "* Control de flujo con `if`, `elif` y `else`.\n",
        "* Ciclos utilizando `while` y `for`\n",
        "* Listas\n",
        "* Funciones y librerías\n",
        "\n"
      ]
    },
    {
      "metadata": {
        "id": "9vZdawBe52_3",
        "colab_type": "text"
      },
      "cell_type": "markdown",
      "source": [
        "# Variables\n",
        "\n",
        "Las variables son uno de los bloques fundamentales de todos los lenguajes de programación. Para declarar una variable hacemos lo siguiente:"
      ]
    },
    {
      "metadata": {
        "id": "lIckpCEH4__w",
        "colab_type": "code",
        "outputId": "6fe7594d-18fb-4edc-fa17-3e44c80b8944",
        "colab": {
          "base_uri": "https://localhost:8080/",
          "height": 34
        }
      },
      "cell_type": "code",
      "source": [
        "# Declarando una variable llamada mi_numero\n",
        "mi_numero = 3\n",
        "mi_otro_numero = 5\n",
        "suma = mi_numero + mi_otro_numero\n",
        "print(suma)"
      ],
      "execution_count": 0,
      "outputs": [
        {
          "output_type": "stream",
          "text": [
            "8\n"
          ],
          "name": "stdout"
        }
      ]
    },
    {
      "metadata": {
        "id": "osmfIwge7Zkh",
        "colab_type": "code",
        "outputId": "c202ad04-eb04-479e-815a-5127e6efa7b2",
        "colab": {
          "base_uri": "https://localhost:8080/",
          "height": 34
        }
      },
      "cell_type": "code",
      "source": [
        "mi_texto = \"Este es un texto\"\n",
        "print(mi_texto)"
      ],
      "execution_count": 0,
      "outputs": [
        {
          "output_type": "stream",
          "text": [
            "Este es un texto\n"
          ],
          "name": "stdout"
        }
      ]
    },
    {
      "metadata": {
        "id": "K6Tev0E9-cJx",
        "colab_type": "text"
      },
      "cell_type": "markdown",
      "source": [
        "Tenemos notar que hay variables de distintos tipos, como números enteros, números decimales, texto, valores de verdad, entre muchos otros."
      ]
    },
    {
      "metadata": {
        "id": "gDnPfx8Y7kWH",
        "colab_type": "text"
      },
      "cell_type": "markdown",
      "source": [
        "# Control de flujo\n",
        "\n",
        "Hay veces que nos interesa que ciertas acciones se ejecuten dependiendo si alguna condición se cumple. Veamos un ejemplo en que pedimos la edad de un usuario y se imprime un mensaje dependiendo si es mayor de edad o no."
      ]
    },
    {
      "metadata": {
        "id": "JngkQWQx9oCr",
        "colab_type": "code",
        "outputId": "6fb22b52-cfd6-4775-e6dc-ac9d2d2e032f",
        "colab": {
          "base_uri": "https://localhost:8080/",
          "height": 51
        }
      },
      "cell_type": "code",
      "source": [
        "edad = int(input(\"Ingrese su edad: \"))\n",
        "\n",
        "if edad >= 18:\n",
        "  print(\"Es mayor de edad\")\n",
        "else:\n",
        "  print(\"Es menor de edad\")"
      ],
      "execution_count": 0,
      "outputs": [
        {
          "output_type": "stream",
          "text": [
            "Ingrese su edad: 17\n",
            "Es menor de edad\n"
          ],
          "name": "stdout"
        }
      ]
    },
    {
      "metadata": {
        "id": "l1oviM_4-Ebo",
        "colab_type": "text"
      },
      "cell_type": "markdown",
      "source": [
        "Aquí tenemos que notar que la función `input` sirve para pedir valores al usuario. Dado que esta función devuelve un valor de tipo **texto**, debemos transformarlo a número entero con la función `int`.\n",
        "\n",
        "Ahora vamos a ver un ejemplo en que se pide un número al usuario y el programa debe decidir si es negativo, cero o positivo."
      ]
    },
    {
      "metadata": {
        "id": "1IEXxNBB-yTk",
        "colab_type": "code",
        "outputId": "e02fb5d6-2ce3-47dd-e195-ef33d9cb9e00",
        "colab": {
          "base_uri": "https://localhost:8080/",
          "height": 51
        }
      },
      "cell_type": "code",
      "source": [
        "numero = int(input(\"Ingrese su edad: \"))\n",
        "\n",
        "if numero > 0:\n",
        "  print(\"Es un número positivo\")\n",
        "elif numero == 0:\n",
        "  print(\"El número es igual a 0\")\n",
        "else:\n",
        "  print(\"Es un número negativo\")"
      ],
      "execution_count": 0,
      "outputs": [
        {
          "output_type": "stream",
          "text": [
            "Ingrese su edad: 3\n",
            "Es un número positivo\n"
          ],
          "name": "stdout"
        }
      ]
    },
    {
      "metadata": {
        "id": "peoc-UTmG7vx",
        "colab_type": "text"
      },
      "cell_type": "markdown",
      "source": [
        "**Ojo**: en Python es clave la indentación del código."
      ]
    },
    {
      "metadata": {
        "id": "hmM-NPLU_D2b",
        "colab_type": "text"
      },
      "cell_type": "markdown",
      "source": [
        "# Actividad\n",
        "\n",
        "Haz un programa que pida dos números al usuario e imprima la suma de estos dos valores."
      ]
    },
    {
      "metadata": {
        "id": "XaQU3y9Y_V4J",
        "colab_type": "code",
        "colab": {}
      },
      "cell_type": "code",
      "source": [
        "# Escribe tu solución aquí"
      ],
      "execution_count": 0,
      "outputs": []
    },
    {
      "metadata": {
        "id": "a98MMsGX_m7j",
        "colab_type": "text"
      },
      "cell_type": "markdown",
      "source": [
        "# Ciclos\n",
        "\n",
        "Los ciclos son necesarios para poder ejecutar una acción varias veces. Primero vamos a ver un ejemplo de ciclos utilizando `while`. Este comando nos sirve para repetir una acción mientras se cumpla una condición. El siguiente ejemplo imprime todos los números desde el 1 al 20."
      ]
    },
    {
      "metadata": {
        "id": "3XBO1BcrAGNc",
        "colab_type": "code",
        "colab": {}
      },
      "cell_type": "code",
      "source": [
        "contador = 1\n",
        "while contador <= 20:\n",
        "  print(contador)\n",
        "  contador += 1"
      ],
      "execution_count": 0,
      "outputs": []
    },
    {
      "metadata": {
        "id": "nM5jQS2sAgBl",
        "colab_type": "text"
      },
      "cell_type": "markdown",
      "source": [
        "Si conocemos los límites del ciclo, en general preferimos usar el comando `for`."
      ]
    },
    {
      "metadata": {
        "id": "3gvYmjzxAnJT",
        "colab_type": "code",
        "colab": {}
      },
      "cell_type": "code",
      "source": [
        "for i in range(1, 21):\n",
        "  print(i)"
      ],
      "execution_count": 0,
      "outputs": []
    },
    {
      "metadata": {
        "id": "_haDj8RAAty7",
        "colab_type": "text"
      },
      "cell_type": "markdown",
      "source": [
        "Ambos programas son equivalentes. Vamos a retomar el comando `for` una vez que aprendamos listas."
      ]
    },
    {
      "metadata": {
        "id": "rxzUn2guBDeh",
        "colab_type": "text"
      },
      "cell_type": "markdown",
      "source": [
        "# Actividad\n",
        "\n",
        "Haz un programa que le pida un número mayor que 0 al usuario e imprima sólo los números impares entre el 0 y el número entregado"
      ]
    },
    {
      "metadata": {
        "id": "r1C5wZPrBQOI",
        "colab_type": "code",
        "colab": {}
      },
      "cell_type": "code",
      "source": [
        "# Escribe tu solución aquí"
      ],
      "execution_count": 0,
      "outputs": []
    },
    {
      "metadata": {
        "id": "Pj5sI6piCwBg",
        "colab_type": "text"
      },
      "cell_type": "markdown",
      "source": [
        "# Listas\n",
        "\n",
        "Las listas son elementos que nos sirven para guardar colecciones. Para declarar una lista hacemos lo siguiente."
      ]
    },
    {
      "metadata": {
        "id": "JlQY5-ENNAAI",
        "colab_type": "code",
        "colab": {}
      },
      "cell_type": "code",
      "source": [
        "lista_num = [1, 3, 5, 7]\n",
        "lista_frutas = [\"Pera\", \"Manzana\", \"Naranja\", \"Melón\", \"Durazno\"]"
      ],
      "execution_count": 0,
      "outputs": []
    },
    {
      "metadata": {
        "id": "Nb8gmpS1NMSu",
        "colab_type": "text"
      },
      "cell_type": "markdown",
      "source": [
        "Podemos iterar por los elementos de la lista utilizando el comando `for`."
      ]
    },
    {
      "metadata": {
        "id": "a4BFRdZWNQ3a",
        "colab_type": "code",
        "outputId": "fb0aae60-8785-4ba5-f5de-4257c1b42e15",
        "colab": {
          "base_uri": "https://localhost:8080/",
          "height": 102
        }
      },
      "cell_type": "code",
      "source": [
        "for elemento in lista_frutas:\n",
        "  print(elemento)"
      ],
      "execution_count": 0,
      "outputs": [
        {
          "output_type": "stream",
          "text": [
            "Pera\n",
            "Manzana\n",
            "Naranja\n",
            "Melón\n",
            "Durazno\n"
          ],
          "name": "stdout"
        }
      ]
    },
    {
      "metadata": {
        "id": "FZC400BmNX9X",
        "colab_type": "text"
      },
      "cell_type": "markdown",
      "source": [
        "Podemos acceder a un elemento en partícular, pero **ojo**, las posiciones parten desde el 0."
      ]
    },
    {
      "metadata": {
        "id": "08ozXyHaNVv1",
        "colab_type": "code",
        "outputId": "f88c4612-4672-4eeb-e024-663f2d41fce0",
        "colab": {
          "base_uri": "https://localhost:8080/",
          "height": 34
        }
      },
      "cell_type": "code",
      "source": [
        "elemento = lista_frutas[1] # Esto obtiene el segundo elemento\n",
        "print(elemento)"
      ],
      "execution_count": 0,
      "outputs": [
        {
          "output_type": "stream",
          "text": [
            "Manzana\n"
          ],
          "name": "stdout"
        }
      ]
    },
    {
      "metadata": {
        "id": "BipGBUKPN6SZ",
        "colab_type": "text"
      },
      "cell_type": "markdown",
      "source": [
        "También podemos iterar por las posiciones de la lista."
      ]
    },
    {
      "metadata": {
        "id": "tw42W-jmNrEN",
        "colab_type": "code",
        "outputId": "e1255e7c-f311-4e23-cee7-1b581d6f571b",
        "colab": {
          "base_uri": "https://localhost:8080/",
          "height": 187
        }
      },
      "cell_type": "code",
      "source": [
        "for i in range(len(lista_frutas)):\n",
        "  print(i)\n",
        "  print(lista_frutas[i])"
      ],
      "execution_count": 0,
      "outputs": [
        {
          "output_type": "stream",
          "text": [
            "0\n",
            "Pera\n",
            "1\n",
            "Manzana\n",
            "2\n",
            "Naranja\n",
            "3\n",
            "Melón\n",
            "4\n",
            "Durazno\n"
          ],
          "name": "stdout"
        }
      ]
    },
    {
      "metadata": {
        "id": "Uycy5LPLOKIJ",
        "colab_type": "text"
      },
      "cell_type": "markdown",
      "source": [
        "Para agregar elementos a una lista podemos usar la función `append`."
      ]
    },
    {
      "metadata": {
        "id": "yKr71pluOCo1",
        "colab_type": "code",
        "outputId": "10ad8f6b-b040-41ad-a125-3239d5c15abc",
        "colab": {
          "base_uri": "https://localhost:8080/",
          "height": 34
        }
      },
      "cell_type": "code",
      "source": [
        "lista_frutas.append(\"Sandía\")\n",
        "print(lista_frutas)"
      ],
      "execution_count": 0,
      "outputs": [
        {
          "output_type": "stream",
          "text": [
            "['Pera', 'Manzana', 'Naranja', 'Melón', 'Durazno', 'Sandía']\n"
          ],
          "name": "stdout"
        }
      ]
    },
    {
      "metadata": {
        "id": "gOkA3rbfOf2M",
        "colab_type": "text"
      },
      "cell_type": "markdown",
      "source": [
        "# Funciones\n",
        "\n",
        "En Python podemos definir y utilizar funciones. Durante esta clase utilizaremos varias funciones de ciertas librerías. Primero vamos a ver cómo definir una función."
      ]
    },
    {
      "metadata": {
        "id": "sQNL7WfsOb0J",
        "colab_type": "code",
        "outputId": "0d7c9ab0-1e47-481e-8c68-c486231fe249",
        "colab": {
          "base_uri": "https://localhost:8080/",
          "height": 34
        }
      },
      "cell_type": "code",
      "source": [
        "# Aquí definimos una función\n",
        "def sumar_numeros(numero1, numero2):\n",
        "  suma = numero1 + numero2\n",
        "  return suma\n",
        "\n",
        "# Aquí utilizamos nuestra función\n",
        "valor = sumar_numeros(2, 4)\n",
        "print(valor)"
      ],
      "execution_count": 0,
      "outputs": [
        {
          "output_type": "stream",
          "text": [
            "6\n"
          ],
          "name": "stdout"
        }
      ]
    },
    {
      "metadata": {
        "id": "cuFmucdVPMax",
        "colab_type": "text"
      },
      "cell_type": "markdown",
      "source": [
        "Ahora vamos a importar una librería llamada `random` que genera números aleatorios. Vamos a utilizarla para generar un número aleatorio entre 0 y 10."
      ]
    },
    {
      "metadata": {
        "id": "_C8LwZB0PFUj",
        "colab_type": "code",
        "outputId": "a6222755-9065-4619-f750-012bec03a96d",
        "colab": {
          "base_uri": "https://localhost:8080/",
          "height": 34
        }
      },
      "cell_type": "code",
      "source": [
        "import random\n",
        "\n",
        "numero_aleatorio = random.randint(0, 10)\n",
        "print(numero_aleatorio)"
      ],
      "execution_count": 0,
      "outputs": [
        {
          "output_type": "stream",
          "text": [
            "7\n"
          ],
          "name": "stdout"
        }
      ]
    }
  ]
}